{
 "cells": [
  {
   "cell_type": "code",
   "execution_count": 1,
   "metadata": {},
   "outputs": [],
   "source": [
    "import deeplake\n",
    "\n",
    "from torch.utils.data import DataLoader\n",
    "import torchvision.transforms as transforms\n",
    "import torch\n",
    "\n",
    "from models.simplepose import SimplePose\n",
    "from models.datasets.lsp import LSPet, LSP\n",
    "\n",
    "import numpy as np\n",
    "from vis import show_pose\n",
    "\n",
    "from torch.utils.tensorboard import SummaryWriter"
   ]
  },
  {
   "cell_type": "code",
   "execution_count": 2,
   "metadata": {},
   "outputs": [
    {
     "name": "stdout",
     "output_type": "stream",
     "text": [
      "hub://activeloop/lsp-train loaded successfully.\n",
      "This dataset can be visualized in Jupyter Notebook by ds.visualize() or at https://app.activeloop.ai/activeloop/lsp-train\n"
     ]
    }
   ],
   "source": [
    "# Load data\n",
    "batch_size = 10  # Кол-во записей в пакете, передаваемом нейросети за раз\n",
    "image_size = (128, 128)  # Размер входного изображения\n",
    "# hmap_size = 32\n",
    "\n",
    "tform = transforms.Compose([  # Объявление трансформации для исходных изображений:\n",
    "    transforms.ToPILImage(),\n",
    "    transforms.Resize(image_size),  # Рескейл изображений до заданного размера\n",
    "    transforms.ToTensor(),  # Приведения исходного изображения к формату тензора\n",
    "    # transforms.Normalize([0.5], [0.5]),\n",
    "])\n",
    "\n",
    "# lsp = LSPet('./models/datasets/lspet_dataset/', transform, image_size)\n",
    "# lsp_loader = DataLoader(lsp, batch_size, shuffle=True, num_workers=1)\n",
    "\n",
    "dl_train = deeplake.load(\"hub://activeloop/lsp-train\")  # Получение данных\n",
    "# Создание объекта, позволяющего итерировать данные\n",
    "lsp_train_loader = dl_train.pytorch(\n",
    "    tensors=[\"images\", \"keypoints\"],\n",
    "    decode_method={'images': 'numpy'},\n",
    "    transform={'images': tform, 'keypoints': None},\n",
    "    batch_size=batch_size, shuffle=True, num_workers=3\n",
    ")"
   ]
  },
  {
   "cell_type": "code",
   "execution_count": 3,
   "metadata": {},
   "outputs": [],
   "source": [
    "class MSELoss(torch.nn.Module):  # Лосс-функция средний квадрат ошибок\n",
    "\n",
    "    def __init__(self):\n",
    "        super(MSELoss, self).__init__()\n",
    "\n",
    "    def forward(self, output, joints):\n",
    "        output = output.view(output.shape[0], 14, 2)\n",
    "        joints = joints[:, :, :-1]\n",
    "        return torch.sum((output - joints) ** 2)"
   ]
  },
  {
   "cell_type": "code",
   "execution_count": 4,
   "metadata": {},
   "outputs": [],
   "source": [
    "# Initialize the model\n",
    "model = SimplePose().cuda()  # Инициализация модели и её выгрузка на ГПУ\n",
    "model.load_state_dict(torch.load('./weights/simplepose9.weights'))  # Загрузка pre-trained weights\n",
    "criterion = MSELoss().cuda()  # Инициализация объекта лосс-функции и его выгрузка на ГПУ\n",
    "optimizer = torch.optim.Adam(model.parameters(), lr=0.0001)  # Инициализация оптимизатора"
   ]
  },
  {
   "cell_type": "code",
   "execution_count": 5,
   "metadata": {},
   "outputs": [],
   "source": [
    "# # Add network into tensorboard\n",
    "# data = next(iter(lsp_train_loader))\n",
    "#\n",
    "# # Создание тензорборда\n",
    "# tb = SummaryWriter()\n",
    "# tb.add_graph(model, data[0].cuda())\n",
    "# # tb.close()"
   ]
  },
  {
   "cell_type": "code",
   "execution_count": 6,
   "metadata": {
    "tags": []
   },
   "outputs": [
    {
     "name": "stderr",
     "output_type": "stream",
     "text": [
      "Please wait, filling up the shuffle buffer with samples.:   3%|▎         | 55.1M/1.91G [00:12<06:59, 4.74MB/s]   \n"
     ]
    },
    {
     "name": "stdout",
     "output_type": "stream",
     "text": [
      "Shuffle buffer filling is complete.\n",
      "Batch: 0, Loss: 909493.8125, Epoch: 0\n",
      "Batch: 10, Loss: 791956.75, Epoch: 0\n",
      "Batch: 20, Loss: 714106.875, Epoch: 0\n",
      "Batch: 30, Loss: 446182.0, Epoch: 0\n",
      "Batch: 40, Loss: 550399.375, Epoch: 0\n",
      "Batch: 50, Loss: 554523.8125, Epoch: 0\n",
      "Batch: 60, Loss: 409422.5625, Epoch: 0\n",
      "Batch: 70, Loss: 604665.6875, Epoch: 0\n",
      "Batch: 80, Loss: 360482.0625, Epoch: 0\n",
      "Batch: 90, Loss: 353916.625, Epoch: 0\n"
     ]
    }
   ],
   "source": [
    "# Train the model\n",
    "for epoch in range(1):\n",
    "    for batch, batch_data in enumerate(lsp_train_loader):\n",
    "\n",
    "        model.zero_grad()\n",
    "\n",
    "        input_image = batch_data['images'].cuda()\n",
    "        joints_hmap = batch_data['keypoints'].cuda()\n",
    "        # mask = batch_data[3].cuda()\n",
    "\n",
    "        prediction = model(input_image)\n",
    "\n",
    "        loss = criterion(prediction, joints_hmap)\n",
    "        loss.backward()\n",
    "        optimizer.step()\n",
    "\n",
    "        # # Tensorboard\n",
    "        # tb.add_scalar('Loss', loss, 1250*epoch + batch)\n",
    "\n",
    "        if batch % 10 == 0:\n",
    "            print('Batch: {}, Loss: {}, Epoch: {}'.format(batch, loss.data, epoch))\n",
    "            # Add keypoints loss of testing data\n",
    "\n",
    "    # # Tensorboard\n",
    "    # for name, weight in model.named_parameters():\n",
    "    #     tb.add_histogram(name, weight, epoch)\n",
    "    #     tb.add_histogram(f'{name}.grad', weight.grad, epoch)\n",
    "\n",
    "    torch.cuda.empty_cache()\n",
    "    torch.save(model.state_dict(), './weights/simplepose{}.weights'.format(epoch))\n",
    "\n",
    "# tb.close()"
   ]
  },
  {
   "cell_type": "code",
   "execution_count": 7,
   "metadata": {},
   "outputs": [
    {
     "name": "stdout",
     "output_type": "stream",
     "text": [
      "hub://activeloop/lsp-test loaded successfully.\n",
      "This dataset can be visualized in Jupyter Notebook by ds.visualize() or at https://app.activeloop.ai/activeloop/lsp-test\n"
     ]
    },
    {
     "name": "stderr",
     "output_type": "stream",
     "text": [
      "Please wait, filling up the shuffle buffer with samples.:   3%|▎         | 55.7M/1.91G [00:12<06:56, 4.78MB/s]    \n"
     ]
    },
    {
     "name": "stdout",
     "output_type": "stream",
     "text": [
      "Shuffle buffer filling is complete.\n"
     ]
    },
    {
     "ename": "ValueError",
     "evalue": "pic should be 2/3 dimensional. Got 4 dimensions.",
     "output_type": "error",
     "traceback": [
      "\u001B[0;31m---------------------------------------------------------------------------\u001B[0m",
      "\u001B[0;31mValueError\u001B[0m                                Traceback (most recent call last)",
      "Cell \u001B[0;32mIn[7], line 15\u001B[0m\n\u001B[1;32m     13\u001B[0m test_image, \u001B[38;5;241m*\u001B[39m_ \u001B[38;5;241m=\u001B[39m \u001B[38;5;28mnext\u001B[39m(\u001B[38;5;28miter\u001B[39m(lsp_test_loader))\n\u001B[1;32m     14\u001B[0m test_predictions \u001B[38;5;241m=\u001B[39m model(test_image[\u001B[38;5;241m0\u001B[39m]\u001B[38;5;241m.\u001B[39mcuda())\n\u001B[0;32m---> 15\u001B[0m \u001B[43mshow_pose\u001B[49m\u001B[43m(\u001B[49m\u001B[43mtest_image\u001B[49m\u001B[43m,\u001B[49m\u001B[43m \u001B[49m\u001B[43mtest_predictions\u001B[49m\u001B[38;5;241;43m.\u001B[39;49m\u001B[43msqueeze\u001B[49m\u001B[43m(\u001B[49m\u001B[43m)\u001B[49m\u001B[38;5;241;43m.\u001B[39;49m\u001B[43mcpu\u001B[49m\u001B[43m(\u001B[49m\u001B[43m)\u001B[49m\u001B[38;5;241;43m.\u001B[39;49m\u001B[43mdetach\u001B[49m\u001B[43m(\u001B[49m\u001B[43m)\u001B[49m\u001B[43m)\u001B[49m\n",
      "File \u001B[0;32m~/coding/pycharm/pytorch_course_animal_pose_estimation/human_pose-master/vis.py:12\u001B[0m, in \u001B[0;36mshow_pose\u001B[0;34m(image, pose, ignore_joints)\u001B[0m\n\u001B[1;32m     10\u001B[0m plt\u001B[38;5;241m.\u001B[39mfigure(figsize\u001B[38;5;241m=\u001B[39m(\u001B[38;5;241m20\u001B[39m, \u001B[38;5;241m20\u001B[39m))\n\u001B[1;32m     11\u001B[0m ax1 \u001B[38;5;241m=\u001B[39m plt\u001B[38;5;241m.\u001B[39msubplot(\u001B[38;5;241m121\u001B[39m, aspect\u001B[38;5;241m=\u001B[39m\u001B[38;5;124m'\u001B[39m\u001B[38;5;124mequal\u001B[39m\u001B[38;5;124m'\u001B[39m)\n\u001B[0;32m---> 12\u001B[0m plt\u001B[38;5;241m.\u001B[39mimshow(\u001B[43mt\u001B[49m\u001B[43m(\u001B[49m\u001B[43mimage\u001B[49m\u001B[43m)\u001B[49m)\n\u001B[1;32m     13\u001B[0m pose \u001B[38;5;241m=\u001B[39m pose\u001B[38;5;241m.\u001B[39mreshape(\u001B[38;5;241m14\u001B[39m, \u001B[38;5;241m2\u001B[39m)\n\u001B[1;32m     14\u001B[0m \u001B[38;5;28;01mfor\u001B[39;00m i, j \u001B[38;5;129;01min\u001B[39;00m [(\u001B[38;5;241m0\u001B[39m, \u001B[38;5;241m1\u001B[39m), (\u001B[38;5;241m1\u001B[39m, \u001B[38;5;241m2\u001B[39m), (\u001B[38;5;241m3\u001B[39m, \u001B[38;5;241m4\u001B[39m), (\u001B[38;5;241m4\u001B[39m, \u001B[38;5;241m5\u001B[39m), (\u001B[38;5;241m6\u001B[39m, \u001B[38;5;241m7\u001B[39m), (\u001B[38;5;241m7\u001B[39m, \u001B[38;5;241m8\u001B[39m), (\u001B[38;5;241m9\u001B[39m, \u001B[38;5;241m10\u001B[39m), (\u001B[38;5;241m10\u001B[39m, \u001B[38;5;241m11\u001B[39m), (\u001B[38;5;241m8\u001B[39m, \u001B[38;5;241m12\u001B[39m), (\u001B[38;5;241m9\u001B[39m, \u001B[38;5;241m12\u001B[39m), (\u001B[38;5;241m12\u001B[39m, \u001B[38;5;241m13\u001B[39m), (\u001B[38;5;241m3\u001B[39m, \u001B[38;5;241m12\u001B[39m), (\u001B[38;5;241m2\u001B[39m, \u001B[38;5;241m12\u001B[39m)]:\n",
      "File \u001B[0;32m~/anaconda3/envs/dl_pytorch_project/lib/python3.10/site-packages/torchvision/transforms/transforms.py:227\u001B[0m, in \u001B[0;36mToPILImage.__call__\u001B[0;34m(self, pic)\u001B[0m\n\u001B[1;32m    218\u001B[0m \u001B[38;5;28;01mdef\u001B[39;00m \u001B[38;5;21m__call__\u001B[39m(\u001B[38;5;28mself\u001B[39m, pic):\n\u001B[1;32m    219\u001B[0m     \u001B[38;5;124;03m\"\"\"\u001B[39;00m\n\u001B[1;32m    220\u001B[0m \u001B[38;5;124;03m    Args:\u001B[39;00m\n\u001B[1;32m    221\u001B[0m \u001B[38;5;124;03m        pic (Tensor or numpy.ndarray): Image to be converted to PIL Image.\u001B[39;00m\n\u001B[0;32m   (...)\u001B[0m\n\u001B[1;32m    225\u001B[0m \n\u001B[1;32m    226\u001B[0m \u001B[38;5;124;03m    \"\"\"\u001B[39;00m\n\u001B[0;32m--> 227\u001B[0m     \u001B[38;5;28;01mreturn\u001B[39;00m \u001B[43mF\u001B[49m\u001B[38;5;241;43m.\u001B[39;49m\u001B[43mto_pil_image\u001B[49m\u001B[43m(\u001B[49m\u001B[43mpic\u001B[49m\u001B[43m,\u001B[49m\u001B[43m \u001B[49m\u001B[38;5;28;43mself\u001B[39;49m\u001B[38;5;241;43m.\u001B[39;49m\u001B[43mmode\u001B[49m\u001B[43m)\u001B[49m\n",
      "File \u001B[0;32m~/anaconda3/envs/dl_pytorch_project/lib/python3.10/site-packages/torchvision/transforms/functional.py:263\u001B[0m, in \u001B[0;36mto_pil_image\u001B[0;34m(pic, mode)\u001B[0m\n\u001B[1;32m    261\u001B[0m \u001B[38;5;28;01melif\u001B[39;00m \u001B[38;5;28misinstance\u001B[39m(pic, torch\u001B[38;5;241m.\u001B[39mTensor):\n\u001B[1;32m    262\u001B[0m     \u001B[38;5;28;01mif\u001B[39;00m pic\u001B[38;5;241m.\u001B[39mndimension() \u001B[38;5;129;01mnot\u001B[39;00m \u001B[38;5;129;01min\u001B[39;00m {\u001B[38;5;241m2\u001B[39m, \u001B[38;5;241m3\u001B[39m}:\n\u001B[0;32m--> 263\u001B[0m         \u001B[38;5;28;01mraise\u001B[39;00m \u001B[38;5;167;01mValueError\u001B[39;00m(\u001B[38;5;124mf\u001B[39m\u001B[38;5;124m\"\u001B[39m\u001B[38;5;124mpic should be 2/3 dimensional. Got \u001B[39m\u001B[38;5;132;01m{\u001B[39;00mpic\u001B[38;5;241m.\u001B[39mndimension()\u001B[38;5;132;01m}\u001B[39;00m\u001B[38;5;124m dimensions.\u001B[39m\u001B[38;5;124m\"\u001B[39m)\n\u001B[1;32m    265\u001B[0m     \u001B[38;5;28;01melif\u001B[39;00m pic\u001B[38;5;241m.\u001B[39mndimension() \u001B[38;5;241m==\u001B[39m \u001B[38;5;241m2\u001B[39m:\n\u001B[1;32m    266\u001B[0m         \u001B[38;5;66;03m# if 2D image, add channel dimension (CHW)\u001B[39;00m\n\u001B[1;32m    267\u001B[0m         pic \u001B[38;5;241m=\u001B[39m pic\u001B[38;5;241m.\u001B[39munsqueeze(\u001B[38;5;241m0\u001B[39m)\n",
      "\u001B[0;31mValueError\u001B[0m: pic should be 2/3 dimensional. Got 4 dimensions."
     ]
    },
    {
     "data": {
      "text/plain": "<Figure size 2000x2000 with 1 Axes>",
      "image/png": "[encoded data removed]"
     },
     "metadata": {},
     "output_type": "display_data"
    }
   ],
   "source": [
    "# lsp_test = LSP('./dataset/lsp_dataset/', transform, image_size)\n",
    "\n",
    "dl_test = deeplake.load(\"hub://activeloop/lsp-test\")\n",
    "lsp_test_loader = dl_test.pytorch(\n",
    "    tensors=[\"images\", \"keypoints\"],\n",
    "    decode_method={'images': 'numpy'},\n",
    "    transform={'images': tform, 'keypoints': None},\n",
    "    batch_size=batch_size, shuffle=True, num_workers=3\n",
    ")\n",
    "#\n",
    "# test_image, *_ = lsp_test_loader.__getitem__(np.random.randint(len(lsp_test_loader)))\n",
    "# test_image, *_ = lsp_test_loader[np.random.randint(len(lsp_test_loader))]\n",
    "test_image, *_ = next(iter(lsp_test_loader))\n",
    "test_predictions = model(test_image[0].cuda())\n",
    "show_pose(test_image, test_predictions.squeeze().cpu().detach())"
   ]
  },
  {
   "cell_type": "code",
   "execution_count": null,
   "metadata": {},
   "outputs": [],
   "source": []
  }
 ],
 "metadata": {
  "language_info": {
   "codemirror_mode": {
    "name": "ipython",
    "version": 3
   },
   "file_extension": ".py",
   "mimetype": "text/x-python",
   "name": "python",
   "nbconvert_exporter": "python",
   "pygments_lexer": "ipython3",
   "version": "3.8.2-final"
  },
  "orig_nbformat": 2,
  "kernelspec": {
   "name": "python38264bitpytorchcondaf04cb2303bb94659b54446e023c3cb62",
   "display_name": "Python 3.8.2 64-bit ('pytorch': conda)"
  }
 },
 "nbformat": 4,
 "nbformat_minor": 2
}

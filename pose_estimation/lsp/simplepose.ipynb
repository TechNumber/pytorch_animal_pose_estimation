{
 "cells": [
  {
   "cell_type": "code",
   "execution_count": 1,
   "metadata": {},
   "outputs": [
    {
     "name": "stderr",
     "output_type": "stream",
     "text": [
      "/home/tehnik/anaconda3/envs/dl_pytorch_project/lib/python3.10/site-packages/deeplake/util/check_latest_version.py:32: UserWarning: A newer version of deeplake (3.2.5) is available. It's recommended that you update to the latest version using `pip install -U deeplake`.\n",
      "  warnings.warn(\n"
     ]
    }
   ],
   "source": [
    "import deeplake\n",
    "\n",
    "import torchvision.transforms as transforms\n",
    "import torch\n",
    "\n",
    "from models.simplepose import SimplePose\n",
    "\n",
    "import numpy as np\n",
    "from vis import show_pose\n",
    "\n",
    "from torch.utils.tensorboard import SummaryWriter"
   ]
  },
  {
   "cell_type": "code",
   "execution_count": 2,
   "outputs": [],
   "source": [
    "import random\n",
    "from pytorch_lightning import seed_everything\n",
    "\n",
    "\n",
    "def set_random_seed(s):\n",
    "    random.seed(s)\n",
    "    np.random.seed(s)\n",
    "    torch.manual_seed(s)\n",
    "    seed_everything(s, workers=True)\n",
    "\n",
    "\n",
    "SEED = 17"
   ],
   "metadata": {
    "collapsed": false
   }
  },
  {
   "cell_type": "code",
   "execution_count": 3,
   "metadata": {},
   "outputs": [
    {
     "name": "stdout",
     "output_type": "stream",
     "text": [
      "hub://activeloop/lsp-train loaded successfully.\n",
      "This dataset can be visualized in Jupyter Notebook by ds.visualize() or at https://app.activeloop.ai/activeloop/lsp-train\n"
     ]
    }
   ],
   "source": [
    "# Load data\n",
    "batch_size = 10  # Кол-во записей в пакете, передаваемом нейросети за раз\n",
    "image_size = (128, 128)  # Размер входного изображения\n",
    "# hmap_size = 32\n",
    "\n",
    "tform = transforms.Compose([  # Объявление трансформации для исходных изображений:\n",
    "    transforms.ToPILImage(),\n",
    "    transforms.Resize(image_size),  # Рескейл изображений до заданного размера\n",
    "    transforms.ToTensor(),  # Приведение исходного изображения к формату тензора\n",
    "    # transforms.Normalize([0.5], [0.5]),\n",
    "])\n",
    "\n",
    "# lsp = LSPet('./models/datasets/lspet_dataset/', transform, image_size)\n",
    "# lsp_loader = DataLoader(lsp, batch_size, shuffle=True, num_workers=3)\n",
    "\n",
    "dl_train = deeplake.load(\"hub://activeloop/lsp-train\")  # Получение данных\n",
    "# Создание объекта, позволяющего итерировать данные\n",
    "lsp_train_loader = dl_train.pytorch(\n",
    "    tensors=[\"images\", \"keypoints\"],\n",
    "    decode_method={'images': 'numpy'},\n",
    "    transform={'images': tform, 'keypoints': None},\n",
    "    batch_size=batch_size, shuffle=False, num_workers=3\n",
    ")"
   ]
  },
  {
   "cell_type": "code",
   "execution_count": 4,
   "metadata": {},
   "outputs": [],
   "source": [
    "class MSELoss(torch.nn.Module):  # Лосс-функция средний квадрат ошибок\n",
    "\n",
    "    def __init__(self):\n",
    "        super(MSELoss, self).__init__()\n",
    "\n",
    "    def forward(self, output, joints):\n",
    "        output = output.view(output.shape[0], 14, 2)\n",
    "        joints = joints[:, :, :-1]\n",
    "        return torch.sum((output - joints) ** 2)"
   ]
  },
  {
   "cell_type": "code",
   "execution_count": 5,
   "metadata": {},
   "outputs": [
    {
     "name": "stderr",
     "output_type": "stream",
     "text": [
      "Global seed set to 17\n"
     ]
    },
    {
     "ename": "FileNotFoundError",
     "evalue": "[Errno 2] No such file or directory: './weights/simplepose9.weights'",
     "output_type": "error",
     "traceback": [
      "\u001B[0;31m---------------------------------------------------------------------------\u001B[0m",
      "\u001B[0;31mFileNotFoundError\u001B[0m                         Traceback (most recent call last)",
      "Cell \u001B[0;32mIn[5], line 4\u001B[0m\n\u001B[1;32m      2\u001B[0m set_random_seed(SEED)\n\u001B[1;32m      3\u001B[0m model \u001B[38;5;241m=\u001B[39m SimplePose(\u001B[38;5;241m14\u001B[39m, \u001B[38;5;28;01mFalse\u001B[39;00m)\u001B[38;5;241m.\u001B[39mcuda()  \u001B[38;5;66;03m# Инициализация модели и её выгрузка на ГПУ\u001B[39;00m\n\u001B[0;32m----> 4\u001B[0m model\u001B[38;5;241m.\u001B[39mload_state_dict(\u001B[43mtorch\u001B[49m\u001B[38;5;241;43m.\u001B[39;49m\u001B[43mload\u001B[49m\u001B[43m(\u001B[49m\u001B[38;5;124;43m'\u001B[39;49m\u001B[38;5;124;43m./weights/simplepose9.weights\u001B[39;49m\u001B[38;5;124;43m'\u001B[39;49m\u001B[43m)\u001B[49m)  \u001B[38;5;66;03m# Загрузка pre-trained weights\u001B[39;00m\n\u001B[1;32m      5\u001B[0m criterion \u001B[38;5;241m=\u001B[39m MSELoss()\u001B[38;5;241m.\u001B[39mcuda()  \u001B[38;5;66;03m# Инициализация объекта лосс-функции и его выгрузка на ГПУ\u001B[39;00m\n\u001B[1;32m      6\u001B[0m optimizer \u001B[38;5;241m=\u001B[39m torch\u001B[38;5;241m.\u001B[39moptim\u001B[38;5;241m.\u001B[39mAdam(model\u001B[38;5;241m.\u001B[39mparameters(), lr\u001B[38;5;241m=\u001B[39m\u001B[38;5;241m0.0001\u001B[39m)\n",
      "File \u001B[0;32m~/anaconda3/envs/dl_pytorch_project/lib/python3.10/site-packages/torch/serialization.py:771\u001B[0m, in \u001B[0;36mload\u001B[0;34m(f, map_location, pickle_module, weights_only, **pickle_load_args)\u001B[0m\n\u001B[1;32m    768\u001B[0m \u001B[38;5;28;01mif\u001B[39;00m \u001B[38;5;124m'\u001B[39m\u001B[38;5;124mencoding\u001B[39m\u001B[38;5;124m'\u001B[39m \u001B[38;5;129;01mnot\u001B[39;00m \u001B[38;5;129;01min\u001B[39;00m pickle_load_args\u001B[38;5;241m.\u001B[39mkeys():\n\u001B[1;32m    769\u001B[0m     pickle_load_args[\u001B[38;5;124m'\u001B[39m\u001B[38;5;124mencoding\u001B[39m\u001B[38;5;124m'\u001B[39m] \u001B[38;5;241m=\u001B[39m \u001B[38;5;124m'\u001B[39m\u001B[38;5;124mutf-8\u001B[39m\u001B[38;5;124m'\u001B[39m\n\u001B[0;32m--> 771\u001B[0m \u001B[38;5;28;01mwith\u001B[39;00m \u001B[43m_open_file_like\u001B[49m\u001B[43m(\u001B[49m\u001B[43mf\u001B[49m\u001B[43m,\u001B[49m\u001B[43m \u001B[49m\u001B[38;5;124;43m'\u001B[39;49m\u001B[38;5;124;43mrb\u001B[39;49m\u001B[38;5;124;43m'\u001B[39;49m\u001B[43m)\u001B[49m \u001B[38;5;28;01mas\u001B[39;00m opened_file:\n\u001B[1;32m    772\u001B[0m     \u001B[38;5;28;01mif\u001B[39;00m _is_zipfile(opened_file):\n\u001B[1;32m    773\u001B[0m         \u001B[38;5;66;03m# The zipfile reader is going to advance the current file position.\u001B[39;00m\n\u001B[1;32m    774\u001B[0m         \u001B[38;5;66;03m# If we want to actually tail call to torch.jit.load, we need to\u001B[39;00m\n\u001B[1;32m    775\u001B[0m         \u001B[38;5;66;03m# reset back to the original position.\u001B[39;00m\n\u001B[1;32m    776\u001B[0m         orig_position \u001B[38;5;241m=\u001B[39m opened_file\u001B[38;5;241m.\u001B[39mtell()\n",
      "File \u001B[0;32m~/anaconda3/envs/dl_pytorch_project/lib/python3.10/site-packages/torch/serialization.py:270\u001B[0m, in \u001B[0;36m_open_file_like\u001B[0;34m(name_or_buffer, mode)\u001B[0m\n\u001B[1;32m    268\u001B[0m \u001B[38;5;28;01mdef\u001B[39;00m \u001B[38;5;21m_open_file_like\u001B[39m(name_or_buffer, mode):\n\u001B[1;32m    269\u001B[0m     \u001B[38;5;28;01mif\u001B[39;00m _is_path(name_or_buffer):\n\u001B[0;32m--> 270\u001B[0m         \u001B[38;5;28;01mreturn\u001B[39;00m \u001B[43m_open_file\u001B[49m\u001B[43m(\u001B[49m\u001B[43mname_or_buffer\u001B[49m\u001B[43m,\u001B[49m\u001B[43m \u001B[49m\u001B[43mmode\u001B[49m\u001B[43m)\u001B[49m\n\u001B[1;32m    271\u001B[0m     \u001B[38;5;28;01melse\u001B[39;00m:\n\u001B[1;32m    272\u001B[0m         \u001B[38;5;28;01mif\u001B[39;00m \u001B[38;5;124m'\u001B[39m\u001B[38;5;124mw\u001B[39m\u001B[38;5;124m'\u001B[39m \u001B[38;5;129;01min\u001B[39;00m mode:\n",
      "File \u001B[0;32m~/anaconda3/envs/dl_pytorch_project/lib/python3.10/site-packages/torch/serialization.py:251\u001B[0m, in \u001B[0;36m_open_file.__init__\u001B[0;34m(self, name, mode)\u001B[0m\n\u001B[1;32m    250\u001B[0m \u001B[38;5;28;01mdef\u001B[39;00m \u001B[38;5;21m__init__\u001B[39m(\u001B[38;5;28mself\u001B[39m, name, mode):\n\u001B[0;32m--> 251\u001B[0m     \u001B[38;5;28msuper\u001B[39m(_open_file, \u001B[38;5;28mself\u001B[39m)\u001B[38;5;241m.\u001B[39m\u001B[38;5;21m__init__\u001B[39m(\u001B[38;5;28;43mopen\u001B[39;49m\u001B[43m(\u001B[49m\u001B[43mname\u001B[49m\u001B[43m,\u001B[49m\u001B[43m \u001B[49m\u001B[43mmode\u001B[49m\u001B[43m)\u001B[49m)\n",
      "\u001B[0;31mFileNotFoundError\u001B[0m: [Errno 2] No such file or directory: './weights/simplepose9.weights'"
     ]
    }
   ],
   "source": [
    "# Initialize the model\n",
    "set_random_seed(SEED)\n",
    "model = SimplePose(14, False).cuda()  # Инициализация модели и её выгрузка на ГПУ\n",
    "model.load_state_dict(torch.load('./weights/simplepose9.weights'))  # Загрузка pre-trained weights\n",
    "criterion = MSELoss().cuda()  # Инициализация объекта лосс-функции и его выгрузка на ГПУ\n",
    "optimizer = torch.optim.Adam(model.parameters(), lr=0.0001)  # Инициализация оптимизатора"
   ]
  },
  {
   "cell_type": "code",
   "execution_count": null,
   "metadata": {},
   "outputs": [],
   "source": [
    "# # Add network into tensorboard\n",
    "# data = next(iter(lsp_train_loader))\n",
    "#\n",
    "# # Создание тензорборда\n",
    "# tb = SummaryWriter()\n",
    "# tb.add_graph(model, data[0].cuda())\n",
    "# # tb.close()"
   ]
  },
  {
   "cell_type": "code",
   "execution_count": null,
   "metadata": {
    "tags": []
   },
   "outputs": [],
   "source": [
    "# Train the model\n",
    "for epoch in range(1):\n",
    "    for batch, batch_data in enumerate(lsp_train_loader):\n",
    "\n",
    "        model.zero_grad()\n",
    "\n",
    "        input_image = batch_data['images'].cuda()\n",
    "        joints_hmap = batch_data['keypoints'].cuda()\n",
    "        # mask = batch_data[3].cuda()\n",
    "\n",
    "        prediction = model(input_image)\n",
    "\n",
    "        loss = criterion(prediction, joints_hmap)\n",
    "        loss.backward()\n",
    "        optimizer.step()\n",
    "\n",
    "        # # Tensorboard\n",
    "        # tb.add_scalar('Loss', loss, 1250*epoch + batch)\n",
    "\n",
    "        if batch % 10 == 0:\n",
    "            print('Batch: {}, Loss: {}, Epoch: {}'.format(batch, loss.data, epoch))\n",
    "            # Add keypoints loss of testing data\n",
    "\n",
    "    # # Tensorboard\n",
    "    # for name, weight in model.named_parameters():\n",
    "    #     tb.add_histogram(name, weight, epoch)\n",
    "    #     tb.add_histogram(f'{name}.grad', weight.grad, epoch)\n",
    "\n",
    "    torch.cuda.empty_cache()\n",
    "    torch.save(model.state_dict(), './weights/simplepose{}.weights'.format(epoch))\n",
    "\n",
    "# tb.close()"
   ]
  },
  {
   "cell_type": "code",
   "execution_count": null,
   "metadata": {},
   "outputs": [],
   "source": [
    "# lsp_test = LSP('./dataset/lsp_dataset/', transform, image_size)\n",
    "\n",
    "dl_test = deeplake.load(\"hub://activeloop/lsp-test\")\n",
    "lsp_test_loader = dl_test.pytorch(\n",
    "    tensors=[\"images\", \"keypoints\", \"images_visualized\"],\n",
    "    decode_method={'images': 'numpy', 'images_visualized': 'numpy'},\n",
    "    transform={'images': tform, 'keypoints': None, 'images_visualized':tform},\n",
    "    batch_size=batch_size, shuffle=False, num_workers=3\n",
    ")\n",
    "#\n",
    "# test_image, *_ = lsp_test_loader.__getitem__(np.random.randint(len(lsp_test_loader)))\n",
    "# test_image, *_ = lsp_test_loader[np.random.randint(len(lsp_test_loader))]\n",
    "test_image, _, test_result = next(iter(lsp_test_loader))\n",
    "pose = model(test_image[3].cuda()).squeeze().cpu().detach()\n",
    "# show_pose(image=test_image[0], pose=test_predictions.squeeze().cpu().detach(), true_image=test_result[0], ignore_joints=None)\n"
   ]
  },
  {
   "cell_type": "code",
   "execution_count": null,
   "metadata": {},
   "outputs": [],
   "source": [
    "import matplotlib.pyplot as plt\n",
    "\n",
    "pose = pose.view(14, 2)\n",
    "plt.imshow(test_image[3].movedim(0, -1))\n",
    "for i, j in [(0, 1), (1, 2), (3, 4), (4, 5), (6, 7), (7, 8), (9, 10), (10, 11), (8, 12), (9, 12), (12, 13), (3, 12), (2, 12)]:\n",
    "    plt.plot([pose[i][0], pose[j][0]], [pose[i][1], pose[j][1]], '-o', lw=2)"
   ]
  }
 ],
 "metadata": {
  "language_info": {
   "codemirror_mode": {
    "name": "ipython",
    "version": 3
   },
   "file_extension": ".py",
   "mimetype": "text/x-python",
   "name": "python",
   "nbconvert_exporter": "python",
   "pygments_lexer": "ipython3",
   "version": "3.8.2-final"
  },
  "orig_nbformat": 2,
  "kernelspec": {
   "name": "python38264bitpytorchcondaf04cb2303bb94659b54446e023c3cb62",
   "display_name": "Python 3.8.2 64-bit ('pytorch': conda)"
  }
 },
 "nbformat": 4,
 "nbformat_minor": 2
}
